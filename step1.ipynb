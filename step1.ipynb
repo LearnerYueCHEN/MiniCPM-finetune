{
 "cells": [
  {
   "cell_type": "markdown",
   "id": "f09ad8d3-8911-43e7-b12c-f18b22477be1",
   "metadata": {},
   "source": [
    "## 一、检测基座模型的指令遵循能力\n",
    "对两个数据集，设计两组不同的query，一组有prompt的，一组没有prompt的"
   ]
  },
  {
   "cell_type": "code",
   "execution_count": 1,
   "id": "7ce94c1b-b12a-4c97-94df-d8a37d0000bf",
   "metadata": {},
   "outputs": [
    {
     "name": "stderr",
     "output_type": "stream",
     "text": [
      "/usr/local/lib/python3.11/dist-packages/tqdm/auto.py:21: TqdmWarning: IProgress not found. Please update jupyter and ipywidgets. See https://ipywidgets.readthedocs.io/en/stable/user_install.html\n",
      "  from .autonotebook import tqdm as notebook_tqdm\n"
     ]
    }
   ],
   "source": [
    "import torch\n",
    "from tqdm import tqdm\n",
    "from transformers import AutoModelForCausalLM, AutoTokenizer\n",
    "import json\n",
    "import re\n",
    "import os\n",
    "\n",
    "# 加载基座模型\n",
    "path = '/hy-tmp/MiniCPM/finetune/output/results'\n",
    "input_file_path = '/hy-tmp/cosmosqa-master/data/test.jsonl'\n",
    "\n",
    "MiniCPM_bf16_path = \"/hy-tmp/miniCPM-bf16\"\n",
    "MiniCPM_bf16_tokenizer = AutoTokenizer.from_pretrained(MiniCPM_bf16_path)\n",
    "MiniCPM_bf16_model = AutoModelForCausalLM.from_pretrained(\n",
    "    MiniCPM_bf16_path, torch_dtype=torch.float16, device_map=\"cuda\", trust_remote_code=True\n",
    ")\n"
   ]
  },
  {
   "cell_type": "code",
   "execution_count": 4,
   "id": "dd8edf85-5017-46b1-b045-6ddc60a5f388",
   "metadata": {},
   "outputs": [],
   "source": [
    "# 无 prompt\n",
    "query = \"<用户>Text: HGH and steroid use is rampant in track , and , just like in most American professional sports , any incredible individual achievement is questioned immediately , which is a sad state of affairs . The fact that we , as a human population have to assume that someone is using steroids because of an outstanding feat is horrible . What about the people who actually train their hearts out to achieve the same success that the users are trying to achieve ? It is n't fair to the men and women that dedicate their lives to achieving glory the right way , hard work and determination .\\n\" \\\n",
    "         \"Question: Why is HGH and steroid use rampant in track ?\\n\" \\\n",
    "         \"Option 0: Because we have to assume that someone is using steroids because of an outstanding feat .\\n\" \\\n",
    "         \"Option 1: None of the above choices .\\n\" \\\n",
    "         \"Option 2: Because any incredible individual achievement is questioned immediately .\\n\" \\\n",
    "         \"Option 3: Because it 's an American professional sport .\\n\""
   ]
  },
  {
   "cell_type": "code",
   "execution_count": 5,
   "id": "f310f58a-a490-4254-a5f2-ca2ec3933902",
   "metadata": {},
   "outputs": [],
   "source": [
    "# 有prompt\n",
    "query_with_prompt = \"<用户>You are a reading comprehension expert and below you need to answer multiple choice questions based on the text. Note: Only the number of the option needs to be answered and your answer is only one number.\\n\" \\\n",
    "         \"An example will be given below:\\n\" \\\n",
    "         \"Text: Good Old War and person L : I saw both of these bands Wednesday night , and they both blew me away . seriously . Good Old War is acoustic and makes me smile . I really can not help but be happy when I listen to them ; I think it 's the fact that they seemed so happy themselves when they played .\\n\" \\\n",
    "         \"Question: In the future , will this person go to see other bands play ?\\n\" \\\n",
    "         \"Option 0: None of the above choices .\\n\" \\\n",
    "         \"Option 1: This person likes music and likes to see the show , they will see other bands play .\\n\" \\\n",
    "         \"Option 2: This person only likes Good Old War and Person L , no other bands .\\n\" \\\n",
    "         \"Option 3: Other Bands is not on tour and this person can not see them .\\n\" \\\n",
    "         \"Answer: 1\\n\\n\" \\\n",
    "         \"Here are the questions you have to answer: \\n\" \\\n",
    "         \"Text: HGH and steroid use is rampant in track , and , just like in most American professional sports , any incredible individual achievement is questioned immediately , which is a sad state of affairs . The fact that we , as a human population have to assume that someone is using steroids because of an outstanding feat is horrible . What about the people who actually train their hearts out to achieve the same success that the users are trying to achieve ? It is n't fair to the men and women that dedicate their lives to achieving glory the right way , hard work and determination .\\n\" \\\n",
    "         \"Question: Why is HGH and steroid use rampant in track ?\\n\" \\\n",
    "         \"Option 0: Because we have to assume that someone is using steroids because of an outstanding feat .\\n\" \\\n",
    "         \"Option 1: None of the above choices .\\n\" \\\n",
    "         \"Option 2: Because any incredible individual achievement is questioned immediately .\\n\" \\\n",
    "         \"Option 3: Because it 's an American professional sport .\\n\""
   ]
  },
  {
   "cell_type": "code",
   "execution_count": 6,
   "id": "37698227-7673-4149-beb7-4b98f5ef2737",
   "metadata": {},
   "outputs": [
    {
     "name": "stderr",
     "output_type": "stream",
     "text": [
      "Setting `pad_token_id` to `eos_token_id`:2 for open-end generation.\n",
      "The `seen_tokens` attribute is deprecated and will be removed in v4.41. Use the `cache_position` model input instead.\n",
      "Setting `pad_token_id` to `eos_token_id`:2 for open-end generation.\n"
     ]
    },
    {
     "name": "stdout",
     "output_type": "stream",
     "text": [
      "Option 2: Because any incredible individual achievement is questioned immediately.\n",
      "Answer: 2\n"
     ]
    }
   ],
   "source": [
    "res = MiniCPM_bf16_model.chat(MiniCPM_bf16_tokenizer, query=query, max_length=1024, top_p=0.5)[0]\n",
    "\n",
    "res_with_prompt = MiniCPM_bf16_model.chat(\n",
    "    MiniCPM_bf16_tokenizer, query=query_with_prompt, max_length=1024, top_p=0.5)[0]\n",
    "\n",
    "print(res)\n",
    "print(res_with_prompt)"
   ]
  },
  {
   "cell_type": "markdown",
   "id": "3894bbe6-8d94-43ef-b00f-ee624c19b695",
   "metadata": {},
   "source": [
    "从上面这个结果可以看出模型具备一定的指令遵循能力"
   ]
  },
  {
   "cell_type": "code",
   "execution_count": 12,
   "id": "844631be-0b42-4409-ae20-f924a3c22a33",
   "metadata": {},
   "outputs": [],
   "source": [
    "query_tri = \"<用户>Question: Who was the man behind The Chipmunks?\\n\" \\\n",
    "            \"Text: Description 1: A struggling songwriter named Dave Seville finds success when he comes across a trio of singing chipmunks: ... Title: Alvin and the Chipmunks (2007) ...\\n\" \\\n",
    "            \"Description 2: The man who brought the Chipmunks to life, ... Five more Chipmunks singles charted in the early '60s, ... See Behind-the-Scenes Rehearsal Photos of Fox's 'The Passion'\""
   ]
  },
  {
   "cell_type": "code",
   "execution_count": 26,
   "id": "ad1f21e5-a670-4985-8d71-76788c2f0902",
   "metadata": {},
   "outputs": [],
   "source": [
    "query_tri_with_prompt = \"<用户>You are a reading comprehension expert and you need to answer the encyclopaedic questions below based on the text given. Note: Try to be as concise as possible. Do not need to answer in complete sentences.\\n\" \\\n",
    "            \"Example:--Text: Omitted here. --Question: Where in England was Dame Judi Dench born? --Your Answer: York\\n\" \\\n",
    "            \"Here is the question you have to answer:\\n\" \\\n",
    "            \"Question: Who was the man behind The Chipmunks?\\n\" \\\n",
    "            \"Text: Description 1: A struggling songwriter named Dave Seville finds success when he comes across a trio of singing chipmunks: ... Title: Alvin and the Chipmunks (2007) ...\\n\" \\\n",
    "            \"Description 2: The man who brought the Chipmunks to life, ... Five more Chipmunks singles charted in the early '60s, ... See Behind-the-Scenes Rehearsal Photos of Fox's 'The Passion'\""
   ]
  },
  {
   "cell_type": "code",
   "execution_count": 22,
   "id": "77e7e36f-da21-41c4-b994-01a88ae8a78c",
   "metadata": {},
   "outputs": [
    {
     "name": "stderr",
     "output_type": "stream",
     "text": [
      "Setting `pad_token_id` to `eos_token_id`:2 for open-end generation.\n"
     ]
    },
    {
     "name": "stdout",
     "output_type": "stream",
     "text": [
      "Answer: Dave Seville\n"
     ]
    }
   ],
   "source": [
    "res_tri = MiniCPM_bf16_model.chat(MiniCPM_bf16_tokenizer, query=query_tri, max_length=1024, top_p=0.5)[0]\n",
    "\n",
    "print(res_tri)"
   ]
  },
  {
   "cell_type": "code",
   "execution_count": 27,
   "id": "ece0e149-5ced-4b8b-a798-c6d2c45a27ce",
   "metadata": {},
   "outputs": [
    {
     "name": "stderr",
     "output_type": "stream",
     "text": [
      "Setting `pad_token_id` to `eos_token_id`:2 for open-end generation.\n"
     ]
    },
    {
     "name": "stdout",
     "output_type": "stream",
     "text": [
      "Answer: Dave Seville\n"
     ]
    }
   ],
   "source": [
    "res_tri_with_prompt = MiniCPM_bf16_model.chat(\n",
    "    MiniCPM_bf16_tokenizer, query=query_tri_with_prompt, max_length=1024, top_p=0.5)[0]\n",
    "\n",
    "print(res_tri_with_prompt)"
   ]
  },
  {
   "cell_type": "code",
   "execution_count": null,
   "id": "315d47e4-f356-41f8-b84b-5707863a275d",
   "metadata": {},
   "outputs": [],
   "source": []
  }
 ],
 "metadata": {
  "kernelspec": {
   "display_name": "Python 3 (ipykernel)",
   "language": "python",
   "name": "python3"
  },
  "language_info": {
   "codemirror_mode": {
    "name": "ipython",
    "version": 3
   },
   "file_extension": ".py",
   "mimetype": "text/x-python",
   "name": "python",
   "nbconvert_exporter": "python",
   "pygments_lexer": "ipython3",
   "version": "3.11.8"
  }
 },
 "nbformat": 4,
 "nbformat_minor": 5
}
